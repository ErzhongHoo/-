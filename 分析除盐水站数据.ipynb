{
 "cells": [
  {
   "cell_type": "markdown",
   "id": "1e4efda8-3d53-411d-8fa2-17b041c69e38",
   "metadata": {},
   "source": [
    "通过历史数据评估阳床树脂再生能力。\n",
    "\n",
    "因所填表格不满足数据库第一范式，所以需要处理数据的大量工作。"
   ]
  },
  {
   "cell_type": "markdown",
   "id": "52b7275f-36f2-4822-960a-f92a98f68f70",
   "metadata": {},
   "source": [
    "从更换树脂当天至未来的某一天，当原树脂洗床所多消耗酸的成本可以覆盖更换树脂的成本时，就值得更换树脂。"
   ]
  },
  {
   "cell_type": "code",
   "execution_count": null,
   "id": "86023fb4",
   "metadata": {
    "tags": []
   },
   "outputs": [],
   "source": [
    "#!/usr/bin/python3                                            \n",
    "# -*- coding:utf-8 -*-    \n",
    "\n",
    "import pandas as pd\n",
    "import calendar\n",
    "import re\n",
    "\n",
    "# 遍历路径文件\n",
    "for j in range(1,13,1):\n",
    "    file_name = '干熄焦生产记录台账/2021/干熄焦生产记录台账（' + str(j) + '月）.xlsx'    \n",
    "    file_date_info = re.findall(r'\\d{1,}', file_name) # 提取路径文件信息\n",
    "    month = file_date_info[1]\n",
    "    year = file_date_info[0]\n",
    "\n",
    "    # 返回（当月总周数，当月总天数）\n",
    "    month_range = calendar.monthrange(int(year),int(month))\n",
    "\n",
    "    # 遍历表单\n",
    "    for i in range(1,month_range[1],1):  # 从第1天开始到当月最后一天\n",
    "        ws_data = pd.read_excel(file_name, sheet_name = str(i)+\"日\")\n",
    "        ws_data_regeneration = year + \"-\" + month + \"-\" + str(i) + ws_data.iloc[26:27,[2,5,8]] # sheet包含洗床信息的cell\n",
    "        ws_data_concat = ws_data_regeneration.to_csv(\"ws_regeneration.csv\",mode='a',index=False, header=False) # 整合当天洗床时间，追加插入文件"
   ]
  },
  {
   "cell_type": "code",
   "execution_count": 266,
   "id": "f7853faa-18ae-4850-a7bb-b8c6e0fb5da7",
   "metadata": {
    "collapsed": true,
    "jupyter": {
     "outputs_hidden": true
    },
    "tags": []
   },
   "outputs": [
    {
     "data": {
      "text/html": [
       "<div>\n",
       "<style scoped>\n",
       "    .dataframe tbody tr th:only-of-type {\n",
       "        vertical-align: middle;\n",
       "    }\n",
       "\n",
       "    .dataframe tbody tr th {\n",
       "        vertical-align: top;\n",
       "    }\n",
       "\n",
       "    .dataframe thead th {\n",
       "        text-align: right;\n",
       "    }\n",
       "</style>\n",
       "<table border=\"1\" class=\"dataframe\">\n",
       "  <thead>\n",
       "    <tr style=\"text-align: right;\">\n",
       "      <th></th>\n",
       "      <th>夜</th>\n",
       "      <th>白</th>\n",
       "      <th>中</th>\n",
       "    </tr>\n",
       "  </thead>\n",
       "  <tbody>\n",
       "    <tr>\n",
       "      <th>0</th>\n",
       "      <td>2021-1-2清洗3#、4#、5#过滤器</td>\n",
       "      <td>2021-1-2清洗4#过滤器</td>\n",
       "      <td>2021-1-2清洗1#、3#过滤器\\n16:27再生2#阴床，进碱浓度：3.0% 3.0%...</td>\n",
       "    </tr>\n",
       "    <tr>\n",
       "      <th>1</th>\n",
       "      <td>2021-1-3清洗4#、5#过滤器</td>\n",
       "      <td>NaN</td>\n",
       "      <td>2021-1-3清洗1#、3#过滤器                            ...</td>\n",
       "    </tr>\n",
       "    <tr>\n",
       "      <th>2</th>\n",
       "      <td>2021-1-4                                      ...</td>\n",
       "      <td>2021-1-412:26再生1#阴床，进碱浓度：3.2% 3.0%    \\n14:30分...</td>\n",
       "      <td>2021-1-416:00分再生2#阳床，进酸浓度：3.0% 3.0%</td>\n",
       "    </tr>\n",
       "    <tr>\n",
       "      <th>3</th>\n",
       "      <td>2021-1-5清洗1#、3#过滤器\\n1：00分中和排水 （PH：1# 8.5  2# 8...</td>\n",
       "      <td>2021-1-5清洗4#、5#过滤器</td>\n",
       "      <td>2021-1-5清洗1#、3#过滤器                            ...</td>\n",
       "    </tr>\n",
       "    <tr>\n",
       "      <th>4</th>\n",
       "      <td>2021-1-6清洗1#、3#过滤器                            ...</td>\n",
       "      <td>2021-1-6清洗4#、5#过滤器                            ...</td>\n",
       "      <td>2021-1-6清洗3#、4#过滤器                            ...</td>\n",
       "    </tr>\n",
       "    <tr>\n",
       "      <th>...</th>\n",
       "      <td>...</td>\n",
       "      <td>...</td>\n",
       "      <td>...</td>\n",
       "    </tr>\n",
       "    <tr>\n",
       "      <th>347</th>\n",
       "      <td>2021-12-2600:11分再生1#阳床，进酸浓度：3.0%，3.0%         ...</td>\n",
       "      <td>2021-12-2610:10分再生3#阳床，进酸浓度：3.0%，3.0%</td>\n",
       "      <td>2021-12-2619:11分再生1#阴床，进碱浓度：3.0%，3.0%         ...</td>\n",
       "    </tr>\n",
       "    <tr>\n",
       "      <th>348</th>\n",
       "      <td>NaN</td>\n",
       "      <td>NaN</td>\n",
       "      <td>2021-12-2716:11分再生1#阴床，进碱浓度：3.0%，3.0%         ...</td>\n",
       "    </tr>\n",
       "    <tr>\n",
       "      <th>349</th>\n",
       "      <td>2021-12-284:44分再生2#阳床，进酸浓度：3.0%，3.0%</td>\n",
       "      <td>2021-12-288:00分再生2#阴床，进碱浓度：3.1%，3.0%   \\n10:00...</td>\n",
       "      <td>NaN</td>\n",
       "    </tr>\n",
       "    <tr>\n",
       "      <th>350</th>\n",
       "      <td>2021-12-2902：33分再生:1#阴床，进碱浓度：3.1%，3.0%   \\n04:...</td>\n",
       "      <td>2021-12-29\\n8：32分再生3#阴床，进碱浓度：3.1%，3.1% \\n11：00...</td>\n",
       "      <td>2021-12-2920：36分再生3#阳床，进酸浓度：3.0%，3.0%     23：0...</td>\n",
       "    </tr>\n",
       "    <tr>\n",
       "      <th>351</th>\n",
       "      <td>2021-12-3005：00分再生1#阳床，进酸浓度：3.0%，3.0%</td>\n",
       "      <td>2021-12-30\\n8:00分再生3#阴床，进碱浓度：3.0%，3.0% \\n11：00...</td>\n",
       "      <td>2021-12-3018：00分再生2#阳床，进酸浓度：3.0%，3.0%</td>\n",
       "    </tr>\n",
       "  </tbody>\n",
       "</table>\n",
       "<p>352 rows × 3 columns</p>\n",
       "</div>"
      ],
      "text/plain": [
       "                                                     夜  \\\n",
       "0                                2021-1-2清洗3#、4#、5#过滤器   \n",
       "1                                   2021-1-3清洗4#、5#过滤器   \n",
       "2    2021-1-4                                      ...   \n",
       "3    2021-1-5清洗1#、3#过滤器\\n1：00分中和排水 （PH：1# 8.5  2# 8...   \n",
       "4    2021-1-6清洗1#、3#过滤器                            ...   \n",
       "..                                                 ...   \n",
       "347  2021-12-2600:11分再生1#阳床，进酸浓度：3.0%，3.0%         ...   \n",
       "348                                                NaN   \n",
       "349              2021-12-284:44分再生2#阳床，进酸浓度：3.0%，3.0%    \n",
       "350  2021-12-2902：33分再生:1#阴床，进碱浓度：3.1%，3.0%   \\n04:...   \n",
       "351             2021-12-3005：00分再生1#阳床，进酸浓度：3.0%，3.0%    \n",
       "\n",
       "                                                     白  \\\n",
       "0                                      2021-1-2清洗4#过滤器   \n",
       "1                                                  NaN   \n",
       "2    2021-1-412:26再生1#阴床，进碱浓度：3.2% 3.0%    \\n14:30分...   \n",
       "3                                   2021-1-5清洗4#、5#过滤器   \n",
       "4    2021-1-6清洗4#、5#过滤器                            ...   \n",
       "..                                                 ...   \n",
       "347              2021-12-2610:10分再生3#阳床，进酸浓度：3.0%，3.0%   \n",
       "348                                                NaN   \n",
       "349  2021-12-288:00分再生2#阴床，进碱浓度：3.1%，3.0%   \\n10:00...   \n",
       "350  2021-12-29\\n8：32分再生3#阴床，进碱浓度：3.1%，3.1% \\n11：00...   \n",
       "351  2021-12-30\\n8:00分再生3#阴床，进碱浓度：3.0%，3.0% \\n11：00...   \n",
       "\n",
       "                                                     中  \n",
       "0    2021-1-2清洗1#、3#过滤器\\n16:27再生2#阴床，进碱浓度：3.0% 3.0%...  \n",
       "1    2021-1-3清洗1#、3#过滤器                            ...  \n",
       "2                  2021-1-416:00分再生2#阳床，进酸浓度：3.0% 3.0%  \n",
       "3    2021-1-5清洗1#、3#过滤器                            ...  \n",
       "4    2021-1-6清洗3#、4#过滤器                            ...  \n",
       "..                                                 ...  \n",
       "347  2021-12-2619:11分再生1#阴床，进碱浓度：3.0%，3.0%         ...  \n",
       "348  2021-12-2716:11分再生1#阴床，进碱浓度：3.0%，3.0%         ...  \n",
       "349                                                NaN  \n",
       "350  2021-12-2920：36分再生3#阳床，进酸浓度：3.0%，3.0%     23：0...  \n",
       "351             2021-12-3018：00分再生2#阳床，进酸浓度：3.0%，3.0%   \n",
       "\n",
       "[352 rows x 3 columns]"
      ]
     },
     "execution_count": 266,
     "metadata": {},
     "output_type": "execute_result"
    }
   ],
   "source": [
    "regeneration = pd.read_csv(r'ws_regeneration.csv')\n",
    "regeneration.columns = [\"夜\",\"白\",\"中\"]\n",
    "regeneration"
   ]
  },
  {
   "cell_type": "markdown",
   "id": "e5acfb05-bda4-4b6c-8905-bf09e0320990",
   "metadata": {},
   "source": [
    "测试清洗单个单元格"
   ]
  },
  {
   "cell_type": "code",
   "execution_count": 10,
   "id": "83ee7b16-6726-4061-9a5c-207b6902ee0a",
   "metadata": {},
   "outputs": [
    {
     "data": {
      "text/html": [
       "<div>\n",
       "<style scoped>\n",
       "    .dataframe tbody tr th:only-of-type {\n",
       "        vertical-align: middle;\n",
       "    }\n",
       "\n",
       "    .dataframe tbody tr th {\n",
       "        vertical-align: top;\n",
       "    }\n",
       "\n",
       "    .dataframe thead th {\n",
       "        text-align: right;\n",
       "    }\n",
       "</style>\n",
       "<table border=\"1\" class=\"dataframe\">\n",
       "  <thead>\n",
       "    <tr style=\"text-align: right;\">\n",
       "      <th></th>\n",
       "      <th>Unnamed: 2</th>\n",
       "      <th>Unnamed: 5</th>\n",
       "      <th>Unnamed: 8</th>\n",
       "    </tr>\n",
       "  </thead>\n",
       "  <tbody>\n",
       "    <tr>\n",
       "      <th>26</th>\n",
       "      <td>NaN</td>\n",
       "      <td>NaN</td>\n",
       "      <td>NaN</td>\n",
       "    </tr>\n",
       "  </tbody>\n",
       "</table>\n",
       "</div>"
      ],
      "text/plain": [
       "   Unnamed: 2 Unnamed: 5 Unnamed: 8\n",
       "26        NaN        NaN        NaN"
      ]
     },
     "execution_count": 10,
     "metadata": {},
     "output_type": "execute_result"
    }
   ],
   "source": [
    "import pandas as pd\n",
    "test = pd.read_excel(\"干熄焦生产记录台账/2020/干熄焦生产记录台账（3月）.xlsx\")\n",
    "ws_regeneration_cell = test.iloc[26:27,[2,5,8]]\n",
    "ws_regeneration_cell"
   ]
  },
  {
   "cell_type": "code",
   "execution_count": 267,
   "id": "47824c17-0aa1-44bd-807f-a8e76bffa632",
   "metadata": {},
   "outputs": [
    {
     "ename": "KeyError",
     "evalue": "0",
     "output_type": "error",
     "traceback": [
      "\u001b[0;31m---------------------------------------------------------------------------\u001b[0m",
      "\u001b[0;31mKeyError\u001b[0m                                  Traceback (most recent call last)",
      "\u001b[0;32m~/.local/lib/python3.8/site-packages/pandas/core/indexes/base.py\u001b[0m in \u001b[0;36mget_loc\u001b[0;34m(self, key, method, tolerance)\u001b[0m\n\u001b[1;32m   3360\u001b[0m             \u001b[0;32mtry\u001b[0m\u001b[0;34m:\u001b[0m\u001b[0;34m\u001b[0m\u001b[0;34m\u001b[0m\u001b[0m\n\u001b[0;32m-> 3361\u001b[0;31m                 \u001b[0;32mreturn\u001b[0m \u001b[0mself\u001b[0m\u001b[0;34m.\u001b[0m\u001b[0m_engine\u001b[0m\u001b[0;34m.\u001b[0m\u001b[0mget_loc\u001b[0m\u001b[0;34m(\u001b[0m\u001b[0mcasted_key\u001b[0m\u001b[0;34m)\u001b[0m\u001b[0;34m\u001b[0m\u001b[0;34m\u001b[0m\u001b[0m\n\u001b[0m\u001b[1;32m   3362\u001b[0m             \u001b[0;32mexcept\u001b[0m \u001b[0mKeyError\u001b[0m \u001b[0;32mas\u001b[0m \u001b[0merr\u001b[0m\u001b[0;34m:\u001b[0m\u001b[0;34m\u001b[0m\u001b[0;34m\u001b[0m\u001b[0m\n",
      "\u001b[0;32m~/.local/lib/python3.8/site-packages/pandas/_libs/index.pyx\u001b[0m in \u001b[0;36mpandas._libs.index.IndexEngine.get_loc\u001b[0;34m()\u001b[0m\n",
      "\u001b[0;32m~/.local/lib/python3.8/site-packages/pandas/_libs/index.pyx\u001b[0m in \u001b[0;36mpandas._libs.index.IndexEngine.get_loc\u001b[0;34m()\u001b[0m\n",
      "\u001b[0;32mpandas/_libs/hashtable_class_helper.pxi\u001b[0m in \u001b[0;36mpandas._libs.hashtable.PyObjectHashTable.get_item\u001b[0;34m()\u001b[0m\n",
      "\u001b[0;32mpandas/_libs/hashtable_class_helper.pxi\u001b[0m in \u001b[0;36mpandas._libs.hashtable.PyObjectHashTable.get_item\u001b[0;34m()\u001b[0m\n",
      "\u001b[0;31mKeyError\u001b[0m: 0",
      "\nThe above exception was the direct cause of the following exception:\n",
      "\u001b[0;31mKeyError\u001b[0m                                  Traceback (most recent call last)",
      "\u001b[0;32m<ipython-input-267-3ab5478ff092>\u001b[0m in \u001b[0;36m<module>\u001b[0;34m\u001b[0m\n\u001b[1;32m      1\u001b[0m \u001b[0myang1\u001b[0m \u001b[0;34m=\u001b[0m \u001b[0mre\u001b[0m\u001b[0;34m.\u001b[0m\u001b[0mcompile\u001b[0m\u001b[0;34m(\u001b[0m\u001b[0;34mr'\\d{1,}:\\d{1,}分再生2#阳床'\u001b[0m\u001b[0;34m)\u001b[0m\u001b[0;34m\u001b[0m\u001b[0;34m\u001b[0m\u001b[0m\n\u001b[0;32m----> 2\u001b[0;31m \u001b[0mf1yang\u001b[0m \u001b[0;34m=\u001b[0m \u001b[0mre\u001b[0m\u001b[0;34m.\u001b[0m\u001b[0msearch\u001b[0m\u001b[0;34m(\u001b[0m\u001b[0myang1\u001b[0m\u001b[0;34m,\u001b[0m \u001b[0mregeneration\u001b[0m\u001b[0;34m[\u001b[0m\u001b[0;36m0\u001b[0m\u001b[0;34m]\u001b[0m\u001b[0;34m)\u001b[0m\u001b[0;34m\u001b[0m\u001b[0;34m\u001b[0m\u001b[0m\n\u001b[0m\u001b[1;32m      3\u001b[0m \u001b[0mprint\u001b[0m\u001b[0;34m(\u001b[0m\u001b[0mf1yang\u001b[0m\u001b[0;34m)\u001b[0m\u001b[0;34m\u001b[0m\u001b[0;34m\u001b[0m\u001b[0m\n",
      "\u001b[0;32m~/.local/lib/python3.8/site-packages/pandas/core/frame.py\u001b[0m in \u001b[0;36m__getitem__\u001b[0;34m(self, key)\u001b[0m\n\u001b[1;32m   3456\u001b[0m             \u001b[0;32mif\u001b[0m \u001b[0mself\u001b[0m\u001b[0;34m.\u001b[0m\u001b[0mcolumns\u001b[0m\u001b[0;34m.\u001b[0m\u001b[0mnlevels\u001b[0m \u001b[0;34m>\u001b[0m \u001b[0;36m1\u001b[0m\u001b[0;34m:\u001b[0m\u001b[0;34m\u001b[0m\u001b[0;34m\u001b[0m\u001b[0m\n\u001b[1;32m   3457\u001b[0m                 \u001b[0;32mreturn\u001b[0m \u001b[0mself\u001b[0m\u001b[0;34m.\u001b[0m\u001b[0m_getitem_multilevel\u001b[0m\u001b[0;34m(\u001b[0m\u001b[0mkey\u001b[0m\u001b[0;34m)\u001b[0m\u001b[0;34m\u001b[0m\u001b[0;34m\u001b[0m\u001b[0m\n\u001b[0;32m-> 3458\u001b[0;31m             \u001b[0mindexer\u001b[0m \u001b[0;34m=\u001b[0m \u001b[0mself\u001b[0m\u001b[0;34m.\u001b[0m\u001b[0mcolumns\u001b[0m\u001b[0;34m.\u001b[0m\u001b[0mget_loc\u001b[0m\u001b[0;34m(\u001b[0m\u001b[0mkey\u001b[0m\u001b[0;34m)\u001b[0m\u001b[0;34m\u001b[0m\u001b[0;34m\u001b[0m\u001b[0m\n\u001b[0m\u001b[1;32m   3459\u001b[0m             \u001b[0;32mif\u001b[0m \u001b[0mis_integer\u001b[0m\u001b[0;34m(\u001b[0m\u001b[0mindexer\u001b[0m\u001b[0;34m)\u001b[0m\u001b[0;34m:\u001b[0m\u001b[0;34m\u001b[0m\u001b[0;34m\u001b[0m\u001b[0m\n\u001b[1;32m   3460\u001b[0m                 \u001b[0mindexer\u001b[0m \u001b[0;34m=\u001b[0m \u001b[0;34m[\u001b[0m\u001b[0mindexer\u001b[0m\u001b[0;34m]\u001b[0m\u001b[0;34m\u001b[0m\u001b[0;34m\u001b[0m\u001b[0m\n",
      "\u001b[0;32m~/.local/lib/python3.8/site-packages/pandas/core/indexes/base.py\u001b[0m in \u001b[0;36mget_loc\u001b[0;34m(self, key, method, tolerance)\u001b[0m\n\u001b[1;32m   3361\u001b[0m                 \u001b[0;32mreturn\u001b[0m \u001b[0mself\u001b[0m\u001b[0;34m.\u001b[0m\u001b[0m_engine\u001b[0m\u001b[0;34m.\u001b[0m\u001b[0mget_loc\u001b[0m\u001b[0;34m(\u001b[0m\u001b[0mcasted_key\u001b[0m\u001b[0;34m)\u001b[0m\u001b[0;34m\u001b[0m\u001b[0;34m\u001b[0m\u001b[0m\n\u001b[1;32m   3362\u001b[0m             \u001b[0;32mexcept\u001b[0m \u001b[0mKeyError\u001b[0m \u001b[0;32mas\u001b[0m \u001b[0merr\u001b[0m\u001b[0;34m:\u001b[0m\u001b[0;34m\u001b[0m\u001b[0;34m\u001b[0m\u001b[0m\n\u001b[0;32m-> 3363\u001b[0;31m                 \u001b[0;32mraise\u001b[0m \u001b[0mKeyError\u001b[0m\u001b[0;34m(\u001b[0m\u001b[0mkey\u001b[0m\u001b[0;34m)\u001b[0m \u001b[0;32mfrom\u001b[0m \u001b[0merr\u001b[0m\u001b[0;34m\u001b[0m\u001b[0;34m\u001b[0m\u001b[0m\n\u001b[0m\u001b[1;32m   3364\u001b[0m \u001b[0;34m\u001b[0m\u001b[0m\n\u001b[1;32m   3365\u001b[0m         \u001b[0;32mif\u001b[0m \u001b[0mis_scalar\u001b[0m\u001b[0;34m(\u001b[0m\u001b[0mkey\u001b[0m\u001b[0;34m)\u001b[0m \u001b[0;32mand\u001b[0m \u001b[0misna\u001b[0m\u001b[0;34m(\u001b[0m\u001b[0mkey\u001b[0m\u001b[0;34m)\u001b[0m \u001b[0;32mand\u001b[0m \u001b[0;32mnot\u001b[0m \u001b[0mself\u001b[0m\u001b[0;34m.\u001b[0m\u001b[0mhasnans\u001b[0m\u001b[0;34m:\u001b[0m\u001b[0;34m\u001b[0m\u001b[0;34m\u001b[0m\u001b[0m\n",
      "\u001b[0;31mKeyError\u001b[0m: 0"
     ]
    }
   ],
   "source": [
    "yang1 = re.compile(r'\\d{1,}:\\d{1,}分再生2#阳床')\n",
    "f1yang = re.search(yang1, regeneration[0])\n",
    "print(f1yang)"
   ]
  },
  {
   "cell_type": "code",
   "execution_count": null,
   "id": "f1d98120-9773-4dec-8fa4-8344481b2538",
   "metadata": {},
   "outputs": [],
   "source": []
  },
  {
   "cell_type": "code",
   "execution_count": null,
   "id": "60c9601b-4339-4a9b-b7c2-c2651ccddf80",
   "metadata": {},
   "outputs": [],
   "source": []
  }
 ],
 "metadata": {
  "kernelspec": {
   "display_name": "Python 3",
   "language": "python",
   "name": "python3"
  },
  "language_info": {
   "codemirror_mode": {
    "name": "ipython",
    "version": 3
   },
   "file_extension": ".py",
   "mimetype": "text/x-python",
   "name": "python",
   "nbconvert_exporter": "python",
   "pygments_lexer": "ipython3",
   "version": "3.8.10"
  }
 },
 "nbformat": 4,
 "nbformat_minor": 5
}
