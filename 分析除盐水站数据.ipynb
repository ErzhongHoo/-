{
 "cells": [
  {
   "cell_type": "markdown",
   "id": "1e4efda8-3d53-411d-8fa2-17b041c69e38",
   "metadata": {},
   "source": [
    "通过历史数据评估阳床树脂再生能力。\n",
    "\n",
    "因所填表格不满足数据库第一范式，所以需要处理数据的大量工作。"
   ]
  },
  {
   "cell_type": "markdown",
   "id": "52b7275f-36f2-4822-960a-f92a98f68f70",
   "metadata": {},
   "source": [
    "从更换树脂当天至未来的某一天，当原树脂洗床所多消耗酸的成本可以覆盖更换树脂的成本时，就值得更换树脂。"
   ]
  },
  {
   "cell_type": "markdown",
   "id": "e5acfb05-bda4-4b6c-8905-bf09e0320990",
   "metadata": {},
   "source": [
    "清洗单个单元格"
   ]
  },
  {
   "cell_type": "code",
   "execution_count": null,
   "id": "83ee7b16-6726-4061-9a5c-207b6902ee0a",
   "metadata": {
    "tags": []
   },
   "outputs": [],
   "source": [
    "import pandas as pd\n",
    "import re\n",
    "import calendar\n",
    "import os\n",
    "from time import sleep\n",
    "from tqdm.auto import tqdm\n",
    "\n",
    "# 初始化文件\n",
    "if os.path.exists('RegenerationInfo.csv'):\n",
    "    os.remove('RegenerationInfo.csv')\n",
    "\n",
    "# data = {'date':[], 'regeneration':[]}\n",
    "# init_dataFrame = pd.DataFrame(data)\n",
    "# init_dataFrame.to_csv('test.csv')\n",
    "\n",
    "valid_columns = [2,5,8]\n",
    "years = [2019,2020,2021,2022]\n",
    "\n",
    "for year in tqdm(years,desc=\"year\"):\n",
    "    if (year < 2021):\n",
    "        valid_index1 = 25\n",
    "        valid_index2 = 26\n",
    "    else:\n",
    "        valid_index1 = 27\n",
    "        valid_index2 = 28\n",
    "\n",
    "    # 遍历路径文件\n",
    "    for month in tqdm(range(1,13,1),desc=\"month\"):\n",
    "        file_name = '干熄焦生产记录台账/{0}/干熄焦生产记录台账（{1}月）.xlsx'.format(year,month)\n",
    "        #file_date_info = re.findall(r'\\d{1,}', file_name) # 提取路径文件信息(年、月）\n",
    "        #month = file_date_info[1]\n",
    "        # year = file_date_info[0]\n",
    "\n",
    "        # 返回（当月总周数，当月总天数）\n",
    "        month_range = calendar.monthrange(int(year),int(month))\n",
    "        \n",
    "        # 遍历表单\n",
    "        for day in range(1,month_range[1],1):  # 从第1天开始至当月最后一天\n",
    "            ws_data = pd.read_excel(file_name, sheet_name = \"{}日\".format(day), header=None) # 读取当日表单\n",
    "            ws_data_regeneration = ws_data.iloc[valid_index1:valid_index2,[2,5,8]].astype(str) # 只保留包含洗床单元格的数据\n",
    "            \n",
    "            # 构建日期DataFrame\n",
    "            regenerate_date = {'date':[\"{0}-{1}-{2}\".format(year, month, day)]} # 再生日期信息\n",
    "            regeneration_date = pd.DataFrame(data=regenerate_date)\n",
    "        \n",
    "            # 对单元格遍历，拆分、分割\n",
    "            for valid_column in valid_columns:\n",
    "                ws_regeneration_split_cell = ws_data_regeneration[valid_column].T.str.split(r'\\s+', expand=True) # 转置,（以至少1个空格)分割\n",
    "                # print(ws_regeneration_split_cell)\n",
    "            \n",
    "                # 根据拆分的单元格长度，遍历追加入文件\n",
    "                for l in range(int(ws_regeneration_split_cell.size)):\n",
    "                    ws_regeneration_split_cell[l] =  ws_regeneration_split_cell[l].astype(str)\n",
    "                        \n",
    "                    # 重建洗床信息DataFrame\n",
    "                    ws_regeneration_split_cell_value = ws_regeneration_split_cell[l].values\n",
    "                    ws_regeneration_split_cell_value_df = pd.DataFrame(ws_regeneration_split_cell_value)\n",
    "                        \n",
    "                    frames = [regeneration_date, ws_regeneration_split_cell_value_df]\n",
    "                    result = pd.concat(frames,join=\"outer\",axis=1, ignore_index=True)\n",
    "                    \n",
    "                    result.to_csv(\"RegenerationInfo.csv\",mode='a',header=False, index=False)\n",
    "                \n",
    "\n",
    "rename = pd.read_csv(\"RegenerationInfo.csv\")\n",
    "rename.rename({0:'date',1:'regeneration'},axis=0, inplace=True)\n",
    "\n",
    "# 2020年用\n",
    "# test = pd.read_excel(\"干熄焦生产记录台账/2020/干熄焦生产记录台账（3月）.xlsx\", sheet_name=\"8日\", header=None)\n",
    "# ws_regeneration_cell = test.iloc[25:26,[2,5,8]]"
   ]
  },
  {
   "cell_type": "markdown",
   "id": "313f9d70-2a6d-426d-a6d6-7f5c65cbc449",
   "metadata": {},
   "source": [
    "正则匹配2#阳床洗床时间"
   ]
  },
  {
   "cell_type": "code",
   "execution_count": null,
   "id": "47824c17-0aa1-44bd-807f-a8e76bffa632",
   "metadata": {
    "tags": []
   },
   "outputs": [],
   "source": [
    "rg_info = pd.read_csv(\"RegenerationInfo.csv\")\n",
    "\n",
    "fcation_resin_2 = re.compile(r'\\d{1,}:\\d{1,}分再生2#阳床')\n",
    "\n",
    "rg_info.Series.str.match(r'\\d{1,}:\\d{1,}分再生2#阳床')\n",
    "\n",
    "# for m in rg_info.index:\n",
    "#     cation_resin_2 = re.search(fcation_resin_2, rg_info[0])\n",
    "#     print(yang2)"
   ]
  },
  {
   "cell_type": "code",
   "execution_count": null,
   "id": "f1d98120-9773-4dec-8fa4-8344481b2538",
   "metadata": {},
   "outputs": [],
   "source": []
  },
  {
   "cell_type": "code",
   "execution_count": null,
   "id": "60c9601b-4339-4a9b-b7c2-c2651ccddf80",
   "metadata": {},
   "outputs": [],
   "source": []
  }
 ],
 "metadata": {
  "kernelspec": {
   "display_name": "Python 3",
   "language": "python",
   "name": "python3"
  },
  "language_info": {
   "codemirror_mode": {
    "name": "ipython",
    "version": 3
   },
   "file_extension": ".py",
   "mimetype": "text/x-python",
   "name": "python",
   "nbconvert_exporter": "python",
   "pygments_lexer": "ipython3",
   "version": "3.8.10"
  }
 },
 "nbformat": 4,
 "nbformat_minor": 5
}
