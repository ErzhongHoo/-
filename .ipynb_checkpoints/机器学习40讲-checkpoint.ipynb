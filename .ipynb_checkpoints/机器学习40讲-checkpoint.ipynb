{
 "cells": [
  {
   "cell_type": "code",
   "execution_count": null,
   "id": "793f483d",
   "metadata": {
    "scrolled": false
   },
   "outputs": [
    {
     "name": "stdout",
     "output_type": "stream",
     "text": [
      "Collecting plotly\n",
      "  Downloading plotly-5.5.0-py2.py3-none-any.whl (26.5 MB)\n",
      "\u001b[K     |█▌                              | 1.3 MB 20 kB/s eta 0:20:393     |█                               | 849 kB 11 kB/s eta 0:36:27"
     ]
    }
   ],
   "source": [
    "!pip3 install plotly"
   ]
  },
  {
   "cell_type": "markdown",
   "id": "7112e1d0",
   "metadata": {},
   "source": [
    "生成漏斗图"
   ]
  },
  {
   "cell_type": "code",
   "execution_count": null,
   "id": "394356f5",
   "metadata": {},
   "outputs": [],
   "source": [
    "import plotly.express as px\n",
    "\n",
    "data = dict(# 准备数据\n",
    "    number = [59,32,18,9,2],\n",
    "    stage = [\"访问数\",\"下载数\",\"注册数\",\"搜索数\",\"付款数\"])\n",
    "\n",
    "fig = px.funnel(data,x='number',y='stage')  # 数据传给漏斗图(funnel漏斗)\n",
    "fig.show()  # 显示漏斗图"
   ]
  },
  {
   "cell_type": "markdown",
   "id": "a99e6aa3",
   "metadata": {},
   "source": [
    "生成复杂漏斗图"
   ]
  },
  {
   "cell_type": "code",
   "execution_count": null,
   "id": "1611a8e3",
   "metadata": {},
   "outputs": [],
   "source": [
    "import plotly.exporess as px\n",
    "import panda as pd\n",
    "\n",
    "df_male = []"
   ]
  }
 ],
 "metadata": {
  "kernelspec": {
   "display_name": "Python 3 (ipykernel)",
   "language": "python",
   "name": "python3"
  },
  "language_info": {
   "codemirror_mode": {
    "name": "ipython",
    "version": 3
   },
   "file_extension": ".py",
   "mimetype": "text/x-python",
   "name": "python",
   "nbconvert_exporter": "python",
   "pygments_lexer": "ipython3",
   "version": "3.8.10"
  }
 },
 "nbformat": 4,
 "nbformat_minor": 5
}
