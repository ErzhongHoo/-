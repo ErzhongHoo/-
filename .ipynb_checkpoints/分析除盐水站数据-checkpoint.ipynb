{
 "cells": [
  {
   "cell_type": "markdown",
   "id": "1e4efda8-3d53-411d-8fa2-17b041c69e38",
   "metadata": {},
   "source": [
    "通过历史数据评估阳床树脂再生能力。\n",
    "\n",
    "因所填表格不满足数据库第一范式，所以需要处理数据的大量工作。"
   ]
  },
  {
   "cell_type": "markdown",
   "id": "52b7275f-36f2-4822-960a-f92a98f68f70",
   "metadata": {},
   "source": [
    "从更换树脂当天至未来的某一天，当原树脂洗床所多消耗酸的成本可以覆盖更换树脂的成本时，就值得更换树脂。"
   ]
  },
  {
   "cell_type": "markdown",
   "id": "e5acfb05-bda4-4b6c-8905-bf09e0320990",
   "metadata": {},
   "source": [
    "清洗单个单元格"
   ]
  },
  {
   "cell_type": "code",
   "execution_count": null,
   "id": "83ee7b16-6726-4061-9a5c-207b6902ee0a",
   "metadata": {
    "tags": []
   },
   "outputs": [
    {
     "data": {
      "application/vnd.jupyter.widget-view+json": {
       "model_id": "ab3834df5c3f42bfbc3a19706c223b75",
       "version_major": 2,
       "version_minor": 0
      },
      "text/plain": [
       "year:   0%|          | 0/4 [00:00<?, ?it/s]"
      ]
     },
     "metadata": {},
     "output_type": "display_data"
    },
    {
     "data": {
      "application/vnd.jupyter.widget-view+json": {
       "model_id": "1d38d07f703e403bb7f5ffd846fdb307",
       "version_major": 2,
       "version_minor": 0
      },
      "text/plain": [
       "month:   0%|          | 0/12 [00:00<?, ?it/s]"
      ]
     },
     "metadata": {},
     "output_type": "display_data"
    },
    {
     "data": {
      "application/vnd.jupyter.widget-view+json": {
       "model_id": "e5fb7a4931e74999ae47f1d39c775d5d",
       "version_major": 2,
       "version_minor": 0
      },
      "text/plain": [
       "month:   0%|          | 0/12 [00:00<?, ?it/s]"
      ]
     },
     "metadata": {},
     "output_type": "display_data"
    },
    {
     "data": {
      "application/vnd.jupyter.widget-view+json": {
       "model_id": "536a91b9621a4d3b8aa2d79804038a04",
       "version_major": 2,
       "version_minor": 0
      },
      "text/plain": [
       "month:   0%|          | 0/12 [00:00<?, ?it/s]"
      ]
     },
     "metadata": {},
     "output_type": "display_data"
    }
   ],
   "source": [
    "import pandas as pd\n",
    "import re\n",
    "import calendar\n",
    "import os\n",
    "from time import sleep\n",
    "from tqdm.auto import tqdm\n",
    "\n",
    "# 初始化文件\n",
    "if os.path.exists('RegenerationRawInfo.csv'):\n",
    "    os.remove('RegenerationRawInfo.csv')\n",
    "\n",
    "valid_columns = [2,5,8]\n",
    "years = [2019,2020,2021,2022]\n",
    "\n",
    "regeneration_df = pd.DataFrame({'date':[], 'regeneration':[]})\n",
    "regeneration_df.to_csv(\"RegenerationRawInfo.csv\",mode='a',index=False)\n",
    "\n",
    "\n",
    "for year in tqdm(years,desc=\"year\"):\n",
    "    if (year < 2021):\n",
    "        valid_index1 = 25\n",
    "        valid_index2 = 26\n",
    "    else:\n",
    "        valid_index1 = 27\n",
    "        valid_index2 = 28\n",
    "\n",
    "    # 遍历路径文件\n",
    "    for month in tqdm(range(1,13,1),desc=\"month\"):\n",
    "        file_name = '干熄焦生产记录台账/{0}/干熄焦生产记录台账（{1}月）.xlsx'.format(year,month)\n",
    "        #file_date_info = re.findall(r'\\d{1,}', file_name) # 提取路径文件信息(年、月）\n",
    "        #month = file_date_info[1]\n",
    "        # year = file_date_info[0]\n",
    "\n",
    "        # 返回（当月总周数，当月总天数）\n",
    "        month_range = calendar.monthrange(int(year),int(month))\n",
    "        \n",
    "        # 遍历表单\n",
    "        for day in range(1,month_range[1]+1,1):  # 从第1天开始至当月最后一天\n",
    "            try:\n",
    "                regeneration_date = pd.read_excel(file_name, sheet_name = \"{}日\".format(day), header=None) # 读取当日表单\n",
    "            except FileNotFoundError as file_error:\n",
    "                print(file_error)\n",
    "                break\n",
    "            regeneration_cell = regeneration_date.iloc[valid_index1:valid_index2,[2,5,8]].astype(str) # 只保留包含洗床单元格的数据\n",
    "            \n",
    "            # 构建日期DataFrame\n",
    "            regenerate_date = {'date':[\"{0}-{1}-{2}\".format(year, month, day)]} # 再生日期信息\n",
    "            regeneration_date_df = pd.DataFrame(data=regenerate_date)\n",
    "        \n",
    "            # 对单元格遍历，拆分、分割\n",
    "            for valid_column in valid_columns:\n",
    "                regeneration_split_cell = regeneration_cell[valid_column].T.str.split(r'\\s+', expand=True) # 转置,（以至少1个空格)分割\n",
    "            \n",
    "                # 根据拆分的单元格长度，遍历追加入文件\n",
    "                for l in range(int(regeneration_split_cell.size)):\n",
    "                    regeneration_split_cell[l] =  regeneration_split_cell[l].astype(str)\n",
    "                        \n",
    "                    # 重建洗床信息DataFrame\n",
    "                    regeneration_split_cell_value = regeneration_split_cell[l].values\n",
    "                    regeneration_split_cell_value_df = pd.DataFrame(regeneration_split_cell_value)\n",
    "                    # print(regeneration_split_cell_value_df)\n",
    "                        \n",
    "                    frames = [regeneration_date_df, regeneration_split_cell_value_df]\n",
    "                    result = pd.concat(frames,join=\"outer\",axis=1, ignore_index=True)\n",
    "                    result.to_csv(\"RegenerationRawInfo.csv\",mode='a',header=False, index=False)\n",
    "\n",
    "# 剔除空行\n",
    "regeneration_raw_info = pd.read_csv(\"RegenerationRawInfo.csv\")\n",
    "regeneration_raw_info.dropna(axis='rows', inplace=True)\n",
    "regeneration_raw_info.reset_index(drop=True, inplace=True)  # drop=True能避免把旧列插入重排列\n",
    "\n",
    "regeneration_raw_info.to_csv(\"RegenerationRawInfo.csv\",mode='w', index=False)"
   ]
  },
  {
   "cell_type": "markdown",
   "id": "313f9d70-2a6d-426d-a6d6-7f5c65cbc449",
   "metadata": {},
   "source": [
    "细分洗床数据"
   ]
  },
  {
   "cell_type": "code",
   "execution_count": 149,
   "id": "47824c17-0aa1-44bd-807f-a8e76bffa632",
   "metadata": {
    "tags": []
   },
   "outputs": [
    {
     "name": "stdout",
     "output_type": "stream",
     "text": [
      "                    0     1     2         3     4     5     6     7     8   \\\n",
      "0              清洗3#过滤器  None  None      None  None  None  None  None  None   \n",
      "1                 0:43  3#阳床        酸浓度：3.1%  3.2%  None  None  None  None   \n",
      "2                 3:23  1#阳床        酸浓度：3.1%  3.2%  None  None  None  None   \n",
      "3      5:50中和排水（PH7.5)  None  None      None  None  None  None  None  None   \n",
      "4                 7:35  2#阳床  至交班。      None  None  None  None  None  None   \n",
      "...                ...   ...   ...       ...   ...   ...   ...   ...   ...   \n",
      "14932            01:34  1#阴床        碱浓度：3.0%  3.0%  None  None  None  None   \n",
      "14933     4:10分中和排水（PH  None  None      None  None  None  None  None  None   \n",
      "14934            1#7.2  None  None      None  None  None  None  None  None   \n",
      "14935           2#6.9）  None  None      None  None  None  None  None  None   \n",
      "14936             5:20  1#阳床        酸浓度：2.9%  3.0%  None  None  None  None   \n",
      "\n",
      "         9     10    11  \n",
      "0      None  None  None  \n",
      "1      None  None  None  \n",
      "2      None  None  None  \n",
      "3      None  None  None  \n",
      "4      None  None  None  \n",
      "...     ...   ...   ...  \n",
      "14932  None  None  None  \n",
      "14933  None  None  None  \n",
      "14934  None  None  None  \n",
      "14935  None  None  None  \n",
      "14936  None  None  None  \n",
      "\n",
      "[14937 rows x 12 columns]\n"
     ]
    }
   ],
   "source": [
    "rg_info = pd.read_csv(\"RegenerationRawInfo.csv\")\n",
    "pd.to_datetime(rg_info.date)\n",
    "\n",
    "rg_detail = rg_info['regeneration'].str.split(r'分? ?再生|，|进|置换', regex=True, expand=True)\n",
    "print(rg_detail)\n",
    "rs = pd.concat([rg_info.date,rg_detail[0], rg_detail[1]], axis=1)\n",
    "rs.to_csv(\"test.csv\",index=False)"
   ]
  },
  {
   "cell_type": "markdown",
   "id": "418cc5ba-bd03-461a-bcf2-7a12b511ac88",
   "metadata": {},
   "source": [
    "1#阳床"
   ]
  },
  {
   "cell_type": "code",
   "execution_count": 151,
   "id": "0a888007-d64d-4f33-9b2a-dbf9518d35c0",
   "metadata": {
    "collapsed": true,
    "jupyter": {
     "outputs_hidden": true
    },
    "tags": []
   },
   "outputs": [
    {
     "data": {
      "text/html": [
       "<div>\n",
       "<style scoped>\n",
       "    .dataframe tbody tr th:only-of-type {\n",
       "        vertical-align: middle;\n",
       "    }\n",
       "\n",
       "    .dataframe tbody tr th {\n",
       "        vertical-align: top;\n",
       "    }\n",
       "\n",
       "    .dataframe thead th {\n",
       "        text-align: right;\n",
       "    }\n",
       "</style>\n",
       "<table border=\"1\" class=\"dataframe\">\n",
       "  <thead>\n",
       "    <tr style=\"text-align: right;\">\n",
       "      <th></th>\n",
       "      <th>date</th>\n",
       "      <th>0</th>\n",
       "      <th>1</th>\n",
       "    </tr>\n",
       "  </thead>\n",
       "  <tbody>\n",
       "    <tr>\n",
       "      <th>2</th>\n",
       "      <td>2019-1-1</td>\n",
       "      <td>3:23</td>\n",
       "      <td>1#阳床</td>\n",
       "    </tr>\n",
       "    <tr>\n",
       "      <th>9</th>\n",
       "      <td>2019-1-1</td>\n",
       "      <td>17:43</td>\n",
       "      <td>1#阳床</td>\n",
       "    </tr>\n",
       "    <tr>\n",
       "      <th>21</th>\n",
       "      <td>2019-1-2</td>\n",
       "      <td>16:20</td>\n",
       "      <td>1#阳床</td>\n",
       "    </tr>\n",
       "    <tr>\n",
       "      <th>32</th>\n",
       "      <td>2019-1-3</td>\n",
       "      <td>10:41</td>\n",
       "      <td>1#阳床</td>\n",
       "    </tr>\n",
       "    <tr>\n",
       "      <th>57</th>\n",
       "      <td>2019-1-5</td>\n",
       "      <td>6:50</td>\n",
       "      <td>1#阳床</td>\n",
       "    </tr>\n",
       "    <tr>\n",
       "      <th>...</th>\n",
       "      <td>...</td>\n",
       "      <td>...</td>\n",
       "      <td>...</td>\n",
       "    </tr>\n",
       "    <tr>\n",
       "      <th>14896</th>\n",
       "      <td>2022-11-26</td>\n",
       "      <td>11:52</td>\n",
       "      <td>1#阳床</td>\n",
       "    </tr>\n",
       "    <tr>\n",
       "      <th>14906</th>\n",
       "      <td>2022-11-27</td>\n",
       "      <td>11:26</td>\n",
       "      <td>1#阳床</td>\n",
       "    </tr>\n",
       "    <tr>\n",
       "      <th>14921</th>\n",
       "      <td>2022-11-29</td>\n",
       "      <td>2:30</td>\n",
       "      <td>1#阳床</td>\n",
       "    </tr>\n",
       "    <tr>\n",
       "      <th>14926</th>\n",
       "      <td>2022-11-29</td>\n",
       "      <td>13:30</td>\n",
       "      <td>1#阳床</td>\n",
       "    </tr>\n",
       "    <tr>\n",
       "      <th>14936</th>\n",
       "      <td>2022-11-30</td>\n",
       "      <td>5:20</td>\n",
       "      <td>1#阳床</td>\n",
       "    </tr>\n",
       "  </tbody>\n",
       "</table>\n",
       "<p>859 rows × 3 columns</p>\n",
       "</div>"
      ],
      "text/plain": [
       "             date      0     1\n",
       "2        2019-1-1   3:23  1#阳床\n",
       "9        2019-1-1  17:43  1#阳床\n",
       "21       2019-1-2  16:20  1#阳床\n",
       "32       2019-1-3  10:41  1#阳床\n",
       "57       2019-1-5   6:50  1#阳床\n",
       "...           ...    ...   ...\n",
       "14896  2022-11-26  11:52  1#阳床\n",
       "14906  2022-11-27  11:26  1#阳床\n",
       "14921  2022-11-29   2:30  1#阳床\n",
       "14926  2022-11-29  13:30  1#阳床\n",
       "14936  2022-11-30   5:20  1#阳床\n",
       "\n",
       "[859 rows x 3 columns]"
      ]
     },
     "execution_count": 151,
     "metadata": {},
     "output_type": "execute_result"
    }
   ],
   "source": [
    "fcation_resin_1 = rs.loc[rs.iloc[:,2].str.contains(r'1#阳',regex=True, na=False)]\n",
    "fcation_resin_1.to_csv(\"fcation_resin_1.csv\",index=False)"
   ]
  },
  {
   "cell_type": "markdown",
   "id": "16ca498a-0e2e-48f2-be3b-8d844151573e",
   "metadata": {},
   "source": [
    "2#阳床"
   ]
  },
  {
   "cell_type": "code",
   "execution_count": 158,
   "id": "60c9601b-4339-4a9b-b7c2-c2651ccddf80",
   "metadata": {},
   "outputs": [],
   "source": [
    "fcation_resin_2 = rs.loc[rs.iloc[:,2].str.contains(r'2#阳',regex=True, na=False)]\n",
    "fcation_resin_2.to_csv(\"fcation_resin_2.csv\",index=False)"
   ]
  },
  {
   "cell_type": "markdown",
   "id": "e9c363b0-eb9a-4135-b927-845dec2b292b",
   "metadata": {},
   "source": [
    "3#阳床"
   ]
  },
  {
   "cell_type": "code",
   "execution_count": 159,
   "id": "e121c2f4-d8a7-462e-b59a-3614ccc0511c",
   "metadata": {},
   "outputs": [],
   "source": [
    "fcation_resin_3 = rs.loc[rs.iloc[:,2].str.contains(r'3#阳',regex=True, na=False)]\n",
    "fcation_resin_3.to_csv(\"fcation_resin_3.csv\",index=False)"
   ]
  },
  {
   "cell_type": "code",
   "execution_count": null,
   "id": "25af7fc4-d4df-46cd-a27a-e095a9174a80",
   "metadata": {},
   "outputs": [],
   "source": []
  }
 ],
 "metadata": {
  "kernelspec": {
   "display_name": "Python 3",
   "language": "python",
   "name": "python3"
  },
  "language_info": {
   "codemirror_mode": {
    "name": "ipython",
    "version": 3
   },
   "file_extension": ".py",
   "mimetype": "text/x-python",
   "name": "python",
   "nbconvert_exporter": "python",
   "pygments_lexer": "ipython3",
   "version": "3.8.10"
  }
 },
 "nbformat": 4,
 "nbformat_minor": 5
}
