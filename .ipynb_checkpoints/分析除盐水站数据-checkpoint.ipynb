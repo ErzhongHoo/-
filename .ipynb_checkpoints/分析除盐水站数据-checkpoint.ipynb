{
 "cells": [
  {
   "cell_type": "markdown",
   "id": "1e4efda8-3d53-411d-8fa2-17b041c69e38",
   "metadata": {},
   "source": [
    "通过历史数据评估阳床树脂再生能力。\n",
    "因所填表格不满足数据库第一范式，所以需要处理数据的大量工作。"
   ]
  },
  {
   "cell_type": "code",
   "execution_count": null,
   "id": "86023fb4",
   "metadata": {
    "tags": []
   },
   "outputs": [],
   "source": [
    "#!/usr/bin/python3                                            \n",
    "# -*- coding:utf-8 -*-    \n",
    "\n",
    "import pandas as pd\n",
    "import calendar\n",
    "import re\n",
    "\n",
    "# 遍历路径文件\n",
    "for j in range(1,13,1):\n",
    "    file_name = '干熄焦生产记录台账/2021/干熄焦生产记录台账（' + str(j) + '月）.xlsx'    \n",
    "    file_date_info = re.findall(r'\\d{1,}', file_name) # 提取路径文件信息\n",
    "    month = file_date_info[1]\n",
    "    year = file_date_info[0]\n",
    "\n",
    "    # 返回（当月总周数，当月总天数）\n",
    "    month_range = calendar.monthrange(int(year),int(month))\n",
    "\n",
    "    # 遍历表单\n",
    "    for i in range(1,month_range[1],1):  # 从第1天开始到当月最后一天\n",
    "        ws_data = pd.read_excel(file_name, sheet_name = str(i)+\"日\")\n",
    "        ws_data_regeneration = year + \"-\" + month + \"-\" + str(i) + ws_data.iloc[26:27,[2,5,8]] # sheet包含洗床信息的cell\n",
    "        ws_data_concat = ws_data_regeneration.to_csv(\"ws_regeneration.csv\",mode='a',index=False, header=False) # 整合当天洗床时间，追加插入文件"
   ]
  },
  {
   "cell_type": "code",
   "execution_count": null,
   "id": "f7853faa-18ae-4850-a7bb-b8c6e0fb5da7",
   "metadata": {},
   "outputs": [],
   "source": [
    "regeneration = pd.read_csv(r'ws_regeneration.csv')\n",
    "regeneration.columns = [\"夜\",\"白\",\"中\"]\n",
    "regeneration"
   ]
  },
  {
   "cell_type": "code",
   "execution_count": null,
   "id": "47824c17-0aa1-44bd-807f-a8e76bffa632",
   "metadata": {},
   "outputs": [],
   "source": [
    "yang1 = re.compile(r'\\d{1,}:\\d{1,}分再生2#阳床')\n",
    "f1yang = re.search(yang1, regeneration[0])\n",
    "print(f1yang)"
   ]
  },
  {
   "cell_type": "code",
   "execution_count": null,
   "id": "f1d98120-9773-4dec-8fa4-8344481b2538",
   "metadata": {},
   "outputs": [],
   "source": []
  },
  {
   "cell_type": "code",
   "execution_count": null,
   "id": "60c9601b-4339-4a9b-b7c2-c2651ccddf80",
   "metadata": {},
   "outputs": [],
   "source": []
  }
 ],
 "metadata": {
  "kernelspec": {
   "display_name": "Python 3",
   "language": "python",
   "name": "python3"
  },
  "language_info": {
   "codemirror_mode": {
    "name": "ipython",
    "version": 3
   },
   "file_extension": ".py",
   "mimetype": "text/x-python",
   "name": "python",
   "nbconvert_exporter": "python",
   "pygments_lexer": "ipython3",
   "version": "3.8.10"
  }
 },
 "nbformat": 4,
 "nbformat_minor": 5
}
