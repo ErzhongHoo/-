{
 "cells": [
  {
   "cell_type": "code",
   "execution_count": 4,
   "id": "ec5dc8e7-e836-4f3f-825f-b881fdeec4f6",
   "metadata": {},
   "outputs": [],
   "source": [
    "import pandas as pd"
   ]
  },
  {
   "cell_type": "code",
   "execution_count": 8,
   "id": "415ddc4c-5f24-46b9-8865-b8715a34a373",
   "metadata": {
    "tags": []
   },
   "outputs": [],
   "source": [
    "dataset = pd.read_csv('cation_resin_2.csv')\n",
    "# regressor.fit需要X为二维数组，Y一维或者二维均可\n",
    "X = dataset['time_diff'].values\n",
    "Y = dataset['date'].values"
   ]
  },
  {
   "cell_type": "code",
   "execution_count": null,
   "id": "8a52787f-0891-42be-8b3d-8fb82f912cc8",
   "metadata": {},
   "outputs": [],
   "source": [
    "from sklearn.model_selection import train_test_split\n",
    "X_train, X_test, Y_train, Y_test = train_test_split( X, Y, test_size = 1/4, random_state = 0) \n",
    "\n",
    "from sklearn.linear_model import LinearRegression\n",
    "regressor = LinearRegression()\n",
    "\n",
    "regressor = regressor.fit(X_train, Y_train)\n",
    "\n",
    "Y_pred = regressor.predict(X_test)\n",
    "\n",
    "plt.scatter(X_train , Y_train, color = '#2177C7',marker='x', alpha=0.48)\n",
    "plt.plot(X_train , regressor.predict(X_train), color ='#66BB6A')\n",
    "plt.legend(labels=[\"Linear line\",\"Train data\"],loc=\"lower right\");\n",
    "plt.xlabel('Population of City in 10,000s')\n",
    "plt.ylabel('Profit in $10,000s')\n",
    "plt.show()"
   ]
  },
  {
   "cell_type": "code",
   "execution_count": null,
   "id": "bb6c6a22-08a2-4884-a5a2-09e6ce392072",
   "metadata": {},
   "outputs": [],
   "source": []
  }
 ],
 "metadata": {
  "kernelspec": {
   "display_name": "Python 3",
   "language": "python",
   "name": "python3"
  },
  "language_info": {
   "codemirror_mode": {
    "name": "ipython",
    "version": 3
   },
   "file_extension": ".py",
   "mimetype": "text/x-python",
   "name": "python",
   "nbconvert_exporter": "python",
   "pygments_lexer": "ipython3",
   "version": "3.8.10"
  }
 },
 "nbformat": 4,
 "nbformat_minor": 5
}
