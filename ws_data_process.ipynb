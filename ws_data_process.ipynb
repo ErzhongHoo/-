{
 "cells": [
  {
   "cell_type": "markdown",
   "id": "e5acfb05-bda4-4b6c-8905-bf09e0320990",
   "metadata": {},
   "source": [
    "### 1.洗床数据清洗与整合"
   ]
  },
  {
   "cell_type": "code",
   "execution_count": 1,
   "id": "83ee7b16-6726-4061-9a5c-207b6902ee0a",
   "metadata": {
    "tags": []
   },
   "outputs": [
    {
     "data": {
      "application/vnd.jupyter.widget-view+json": {
       "model_id": "06a855e39a664513bba0466135b20c26",
       "version_major": 2,
       "version_minor": 0
      },
      "text/plain": [
       "year:   0%|          | 0/4 [00:00<?, ?it/s]"
      ]
     },
     "metadata": {},
     "output_type": "display_data"
    },
    {
     "data": {
      "application/vnd.jupyter.widget-view+json": {
       "model_id": "f1b228df200c434bbc2a2a28fce033d9",
       "version_major": 2,
       "version_minor": 0
      },
      "text/plain": [
       "month:   0%|          | 0/12 [00:00<?, ?it/s]"
      ]
     },
     "metadata": {},
     "output_type": "display_data"
    },
    {
     "data": {
      "application/vnd.jupyter.widget-view+json": {
       "model_id": "981d9cdd622141d9ae8a6beb062451c5",
       "version_major": 2,
       "version_minor": 0
      },
      "text/plain": [
       "month:   0%|          | 0/12 [00:00<?, ?it/s]"
      ]
     },
     "metadata": {},
     "output_type": "display_data"
    },
    {
     "data": {
      "application/vnd.jupyter.widget-view+json": {
       "model_id": "a79b1c44dc8d457fb63da771ea15bd17",
       "version_major": 2,
       "version_minor": 0
      },
      "text/plain": [
       "month:   0%|          | 0/12 [00:00<?, ?it/s]"
      ]
     },
     "metadata": {},
     "output_type": "display_data"
    },
    {
     "data": {
      "application/vnd.jupyter.widget-view+json": {
       "model_id": "95be83660eee4afc82830a07324de8d3",
       "version_major": 2,
       "version_minor": 0
      },
      "text/plain": [
       "month:   0%|          | 0/12 [00:00<?, ?it/s]"
      ]
     },
     "metadata": {},
     "output_type": "display_data"
    },
    {
     "name": "stdout",
     "output_type": "stream",
     "text": [
      "[Errno 2] No such file or directory: '干熄焦生产记录台账/2022/干熄焦生产记录台账（12月）.xlsx'\n"
     ]
    }
   ],
   "source": [
    "import pandas as pd\n",
    "import re\n",
    "import calendar\n",
    "import os\n",
    "from time import sleep\n",
    "from tqdm.auto import tqdm\n",
    "\n",
    "# 初始化文件\n",
    "if os.path.exists('RegenerationRawInfo.csv'):\n",
    "    os.remove('RegenerationRawInfo.csv')\n",
    "\n",
    "valid_columns = [2,5,8]\n",
    "years = [2019,2020,2021,2022]\n",
    "\n",
    "regeneration_df = pd.DataFrame({'date':[], 'regeneration':[]})\n",
    "regeneration_df.to_csv(\"RegenerationRawInfo.csv\",mode='a',index=False)\n",
    "\n",
    "\n",
    "for year in tqdm(years,desc=\"year\"):\n",
    "\n",
    "\n",
    "    # 遍历路径文件\n",
    "    for month in tqdm(range(1,13,1),desc=\"month\"):\n",
    "        file_name = '干熄焦生产记录台账/{0}/干熄焦生产记录台账（{1}月）.xlsx'.format(year,month)\n",
    "        #file_date_info = re.findall(r'\\d{1,}', file_name) # 提取路径文件信息(年、月）\n",
    "        #month = file_date_info[1]\n",
    "        # year = file_date_info[0]\n",
    "\n",
    "        # 返回（当月总周数，当月总天数）\n",
    "        month_range = calendar.monthrange(int(year),int(month))\n",
    "        \n",
    "        # 遍历表单\n",
    "        for day in range(1,month_range[1]+1,1):  # 从第1天开始至当月最后一天\n",
    "            try:\n",
    "                regeneration_date = pd.read_excel(file_name, sheet_name = \"{}日\".format(day), header=None) # 读取当日表单\n",
    "            except FileNotFoundError as file_error:\n",
    "                print(file_error)\n",
    "                break\n",
    "                \n",
    "            if (year < 2020 or ( year==2020 and month <= 9)):\n",
    "                valid_index1 = 25\n",
    "                valid_index2 = 26\n",
    "            else :\n",
    "                valid_index1 = 27\n",
    "                valid_index2 = 28\n",
    "                \n",
    "            regeneration_cell = regeneration_date.iloc[valid_index1:valid_index2,[2,5,8]].astype(str) # 只保留包含洗床单元格的数据\n",
    "            \n",
    "            # 构建日期DataFrame\n",
    "            regenerate_date = {'date':[\"{0}-{1}-{2}\".format(year, month, day)]} # 再生日期信息\n",
    "            regeneration_date_df = pd.DataFrame(data=regenerate_date)\n",
    "        \n",
    "            # 对单元格遍历，拆分、分割\n",
    "            for valid_column in valid_columns:\n",
    "                regeneration_split_cell = regeneration_cell[valid_column].T.str.split(r'\\s+', expand=True) # 转置,（以至少1个空格)分割\n",
    "            \n",
    "                # 根据拆分的单元格长度，遍历追加入文件\n",
    "                for l in range(int(regeneration_split_cell.size)):\n",
    "                    regeneration_split_cell[l] =  regeneration_split_cell[l].astype(str)\n",
    "                        \n",
    "                    # 重建洗床信息DataFrame\n",
    "                    regeneration_split_cell_value = regeneration_split_cell[l].values\n",
    "                    regeneration_split_cell_value_df = pd.DataFrame(regeneration_split_cell_value)\n",
    "                    frames = [regeneration_date_df, regeneration_split_cell_value_df]\n",
    "                    result = pd.concat(frames,join=\"outer\",axis=1, ignore_index=True)\n",
    "                    result.to_csv(\"RegenerationRawInfo.csv\",mode='a',header=False, index=False)\n",
    "\n",
    "# 剔除空行\n",
    "regeneration_raw_info = pd.read_csv(\"RegenerationRawInfo.csv\")\n",
    "regeneration_raw_info.dropna(axis='rows', inplace=True)\n",
    "regeneration_raw_info.reset_index(drop=True, inplace=True)  # drop=True能避免把旧列插入重排列\n",
    "\n",
    "regeneration_raw_info.to_csv(\"RegenerationRawInfo.csv\",mode='w', index=False)"
   ]
  },
  {
   "cell_type": "markdown",
   "id": "313f9d70-2a6d-426d-a6d6-7f5c65cbc449",
   "metadata": {},
   "source": [
    "### 2.洗床数据分割"
   ]
  },
  {
   "cell_type": "code",
   "execution_count": 2,
   "id": "47824c17-0aa1-44bd-807f-a8e76bffa632",
   "metadata": {
    "tags": []
   },
   "outputs": [],
   "source": [
    "rg_info = pd.read_csv(\"RegenerationRawInfo.csv\")\n",
    "pd.to_datetime(rg_info.date)\n",
    "\n",
    "rg_split = rg_info['regeneration'].str.split(r' ?分? ?再生|，|进|置换', regex=True, expand=True)\n",
    "\n",
    "rg_split['time'] = rg_split[0]\n",
    "rg_split['cation_resin'] = rg_split[1]\n",
    "\n",
    "rg_split_draft = pd.concat([rg_info.date, rg_split['time'], rg_split['cation_resin']], axis=1)\n",
    "rg_split_draft.replace(\"：\",\":\", inplace=True)\n",
    "rg_split_draft.to_csv(\"RegenerationSplitInfo.csv\",index=False)"
   ]
  },
  {
   "cell_type": "code",
   "execution_count": 3,
   "id": "d6a35774-38ef-4350-92ab-f5b2a47fda0b",
   "metadata": {},
   "outputs": [],
   "source": [
    "rg_draft = pd.read_csv(\"RegenerationSplitInfo.csv\")"
   ]
  },
  {
   "cell_type": "markdown",
   "id": "418cc5ba-bd03-461a-bcf2-7a12b511ac88",
   "metadata": {},
   "source": [
    "1#阳床"
   ]
  },
  {
   "cell_type": "code",
   "execution_count": 4,
   "id": "0a888007-d64d-4f33-9b2a-dbf9518d35c0",
   "metadata": {
    "tags": []
   },
   "outputs": [],
   "source": [
    "cation_resin_1 = rg_draft.loc[rg_draft.iloc[:,2].str.contains(r'1#阳床',regex=True, na=False)]\n",
    "\n",
    "# 规范数据格式\n",
    "cation_resin_1 = cation_resin_1[cation_resin_1['cation_resin'].notnull()].copy()\n",
    "cation_resin_1.replace(r'：',\":\", regex=True, inplace=True)\n",
    "cation_resin_1.replace(r';',\":\", regex=True, inplace=True)\n",
    "cation_resin_1.replace(r'点',\":\", regex=True, inplace=True)\n",
    "\n",
    "# 统一时间格式\n",
    "cation_resin_1['time'] = pd.to_datetime(cation_resin_1['date'] +\" \"+ cation_resin_1['time'])\n",
    "\n",
    "# 洗床间隔时间\n",
    "cation_resin_1['time_diff'] = pd.to_datetime(cation_resin_1['time']).diff()\n",
    "\n",
    "cation_resin_1.to_csv(\"cation_resin_1.csv\",index=False)"
   ]
  },
  {
   "cell_type": "markdown",
   "id": "16ca498a-0e2e-48f2-be3b-8d844151573e",
   "metadata": {},
   "source": [
    "2#阳床"
   ]
  },
  {
   "cell_type": "code",
   "execution_count": 5,
   "id": "60c9601b-4339-4a9b-b7c2-c2651ccddf80",
   "metadata": {},
   "outputs": [],
   "source": [
    "cation_resin_2 = rg_draft.loc[rg_draft.iloc[:,2].str.contains(r'2#阳',regex=True, na=False)]\n",
    "\n",
    "# 规范数据格式\n",
    "cation_resin_2 = cation_resin_2[cation_resin_2['cation_resin'].notnull()].copy()\n",
    "cation_resin_2.replace(r'：',\":\", regex=True, inplace=True)\n",
    "cation_resin_2.replace(r';',\":\", regex=True, inplace=True)\n",
    "cation_resin_2.replace(r'点',\":\", regex=True, inplace=True)\n",
    "cation_resin_2.replace(r'\\.',\":\", regex=True, inplace=True)\n",
    "cation_resin_2.replace(r'::',\":\", regex=True, inplace=True)\n",
    "\n",
    "# 时间标准化\n",
    "cation_resin_2['time'] = pd.to_datetime(cation_resin_2['date'] +\" \"+ cation_resin_2['time'])\n",
    "\n",
    "# 洗床间隔时间\n",
    "cation_resin_2['time_diff'] = pd.to_datetime(cation_resin_2['time']).diff()\n",
    "\n",
    "cation_resin_2.to_csv(\"cation_resin_2.csv\",index=False)"
   ]
  },
  {
   "cell_type": "markdown",
   "id": "e9c363b0-eb9a-4135-b927-845dec2b292b",
   "metadata": {},
   "source": [
    "3#阳床"
   ]
  },
  {
   "cell_type": "code",
   "execution_count": 6,
   "id": "e121c2f4-d8a7-462e-b59a-3614ccc0511c",
   "metadata": {},
   "outputs": [],
   "source": [
    "cation_resin_3 = rg_draft.loc[rg_draft.iloc[:,2].str.contains(r'3#阳',regex=True, na=False)]\n",
    "\n",
    "# 规范数据格式\n",
    "cation_resin_3 = cation_resin_3[cation_resin_3['cation_resin'].notnull()].copy()\n",
    "cation_resin_3.replace(r'：',\":\", regex=True, inplace=True)\n",
    "cation_resin_3.replace(r';',\":\", regex=True, inplace=True)\n",
    "cation_resin_3.replace(r'点',\":\", regex=True, inplace=True)\n",
    "cation_resin_3.replace(r'\\.',\":\", regex=True, inplace=True)\n",
    "cation_resin_3.replace(r'::',\":\", regex=True, inplace=True)\n",
    "\n",
    "# 时间标准化\n",
    "cation_resin_3['time'] = pd.to_datetime(cation_resin_3['date'] +\" \"+ cation_resin_3['time'])\n",
    "\n",
    "# 洗床间隔时间\n",
    "cation_resin_3['time_diff'] = pd.to_datetime(cation_resin_3['time']).diff()\n",
    "\n",
    "cation_resin_3.to_csv(\"cation_resin_3.csv\",index=False)"
   ]
  },
  {
   "cell_type": "markdown",
   "id": "258f8902-2d09-4285-874f-3540dd7d81e6",
   "metadata": {},
   "source": [
    "### 3.异常数据处理"
   ]
  },
  {
   "cell_type": "markdown",
   "id": "946c3142-9a89-4de3-82c4-9155e576d241",
   "metadata": {},
   "source": [
    "2021-01-14 中间间隔143天40小时系1#阳床树脂泄漏维护，故剔除该行。"
   ]
  },
  {
   "cell_type": "code",
   "execution_count": 10,
   "id": "bc8d329c-c0db-4362-ae03-3d5fb9f1282a",
   "metadata": {},
   "outputs": [],
   "source": [
    "cation_resin_1.drop([cation_resin_1['time_diff'].idxmax()], axis=0, inplace=True)"
   ]
  },
  {
   "cell_type": "markdown",
   "id": "631e6c0a-4da8-49ee-877d-3835a5a0c8a4",
   "metadata": {
    "tags": []
   },
   "source": [
    "#### 1#阳床异常数据处理：\n",
    "1.删除使用时长大于72h，小于8h的数据。（床体维护）\n",
    "\n",
    "2.大于40h的数据乘以0.8备用系数。（床体备用）"
   ]
  },
  {
   "cell_type": "code",
   "execution_count": 11,
   "id": "8bbc5aae-4155-4005-9e0c-cceecda1b7b5",
   "metadata": {},
   "outputs": [],
   "source": [
    "# 阳床间隔单位为小时\n",
    "cation_resin_1['time_diff'] = (cation_resin_1['time_diff'].dt.total_seconds() / 60 / 60 ).round(2)\n",
    "cation_resin_2['time_diff'] = (cation_resin_2['time_diff'].dt.total_seconds() / 60 / 60 ).round(2)\n",
    "cation_resin_3['time_diff'] = (cation_resin_3['time_diff'].dt.total_seconds() / 60 / 60 ).round(2)"
   ]
  },
  {
   "cell_type": "code",
   "execution_count": 12,
   "id": "bea67350-a9da-4fc4-8f6b-ac02094a54db",
   "metadata": {},
   "outputs": [
    {
     "data": {
      "text/html": [
       "<div>\n",
       "<style scoped>\n",
       "    .dataframe tbody tr th:only-of-type {\n",
       "        vertical-align: middle;\n",
       "    }\n",
       "\n",
       "    .dataframe tbody tr th {\n",
       "        vertical-align: top;\n",
       "    }\n",
       "\n",
       "    .dataframe thead th {\n",
       "        text-align: right;\n",
       "    }\n",
       "</style>\n",
       "<table border=\"1\" class=\"dataframe\">\n",
       "  <thead>\n",
       "    <tr style=\"text-align: right;\">\n",
       "      <th></th>\n",
       "      <th>time_diff</th>\n",
       "    </tr>\n",
       "  </thead>\n",
       "  <tbody>\n",
       "    <tr>\n",
       "      <th>count</th>\n",
       "      <td>857.000000</td>\n",
       "    </tr>\n",
       "    <tr>\n",
       "      <th>mean</th>\n",
       "      <td>36.015589</td>\n",
       "    </tr>\n",
       "    <tr>\n",
       "      <th>std</th>\n",
       "      <td>19.787502</td>\n",
       "    </tr>\n",
       "    <tr>\n",
       "      <th>min</th>\n",
       "      <td>3.480000</td>\n",
       "    </tr>\n",
       "    <tr>\n",
       "      <th>25%</th>\n",
       "      <td>22.150000</td>\n",
       "    </tr>\n",
       "    <tr>\n",
       "      <th>50%</th>\n",
       "      <td>33.580000</td>\n",
       "    </tr>\n",
       "    <tr>\n",
       "      <th>75%</th>\n",
       "      <td>44.400000</td>\n",
       "    </tr>\n",
       "    <tr>\n",
       "      <th>max</th>\n",
       "      <td>170.170000</td>\n",
       "    </tr>\n",
       "  </tbody>\n",
       "</table>\n",
       "</div>"
      ],
      "text/plain": [
       "        time_diff\n",
       "count  857.000000\n",
       "mean    36.015589\n",
       "std     19.787502\n",
       "min      3.480000\n",
       "25%     22.150000\n",
       "50%     33.580000\n",
       "75%     44.400000\n",
       "max    170.170000"
      ]
     },
     "execution_count": 12,
     "metadata": {},
     "output_type": "execute_result"
    }
   ],
   "source": [
    "cation_resin_1.describe()"
   ]
  },
  {
   "cell_type": "code",
   "execution_count": 13,
   "id": "c5915245-f4ff-49fe-9d39-88a1ba8ac852",
   "metadata": {},
   "outputs": [],
   "source": [
    "authentic_cs_1 = cation_resin_1.loc[(cation_resin_1['time_diff'] < 50) & (cation_resin_1['time_diff'] > 6)]\n",
    "# (authentic_cs_1['time_diff'].loc[(authentic_cs_1['time_diff'] > 50 )])*0.8\n",
    "# print(authentic_cs_1.describe())\n",
    "# cation_resin_1 = cs_1_authentic.copy()\n",
    "# authentic_cs_1_df = cation_resin_1.sort_values(\"date\", ascending=False)\n",
    "authentic_cs_1.to_csv(\"authentic_cs_1.csv\", index=False)"
   ]
  },
  {
   "cell_type": "code",
   "execution_count": 14,
   "id": "75b61eae-d2d3-44e3-880a-4380371a1b87",
   "metadata": {},
   "outputs": [
    {
     "data": {
      "text/html": [
       "<div>\n",
       "<style scoped>\n",
       "    .dataframe tbody tr th:only-of-type {\n",
       "        vertical-align: middle;\n",
       "    }\n",
       "\n",
       "    .dataframe tbody tr th {\n",
       "        vertical-align: top;\n",
       "    }\n",
       "\n",
       "    .dataframe thead th {\n",
       "        text-align: right;\n",
       "    }\n",
       "</style>\n",
       "<table border=\"1\" class=\"dataframe\">\n",
       "  <thead>\n",
       "    <tr style=\"text-align: right;\">\n",
       "      <th></th>\n",
       "      <th>time_diff</th>\n",
       "    </tr>\n",
       "  </thead>\n",
       "  <tbody>\n",
       "    <tr>\n",
       "      <th>count</th>\n",
       "      <td>698.000000</td>\n",
       "    </tr>\n",
       "    <tr>\n",
       "      <th>mean</th>\n",
       "      <td>29.392880</td>\n",
       "    </tr>\n",
       "    <tr>\n",
       "      <th>std</th>\n",
       "      <td>10.794571</td>\n",
       "    </tr>\n",
       "    <tr>\n",
       "      <th>min</th>\n",
       "      <td>6.500000</td>\n",
       "    </tr>\n",
       "    <tr>\n",
       "      <th>25%</th>\n",
       "      <td>20.830000</td>\n",
       "    </tr>\n",
       "    <tr>\n",
       "      <th>50%</th>\n",
       "      <td>29.985000</td>\n",
       "    </tr>\n",
       "    <tr>\n",
       "      <th>75%</th>\n",
       "      <td>38.000000</td>\n",
       "    </tr>\n",
       "    <tr>\n",
       "      <th>max</th>\n",
       "      <td>49.950000</td>\n",
       "    </tr>\n",
       "  </tbody>\n",
       "</table>\n",
       "</div>"
      ],
      "text/plain": [
       "        time_diff\n",
       "count  698.000000\n",
       "mean    29.392880\n",
       "std     10.794571\n",
       "min      6.500000\n",
       "25%     20.830000\n",
       "50%     29.985000\n",
       "75%     38.000000\n",
       "max     49.950000"
      ]
     },
     "execution_count": 14,
     "metadata": {},
     "output_type": "execute_result"
    }
   ],
   "source": [
    "authentic_cs_1.describe()"
   ]
  },
  {
   "cell_type": "code",
   "execution_count": 15,
   "id": "5b977e18-3c6d-4cbf-87d3-f22e88a89cce",
   "metadata": {},
   "outputs": [],
   "source": [
    "authentic_cs_2 = cation_resin_2.loc[(cation_resin_2['time_diff'] < 50) & (cation_resin_2['time_diff'] > 6)]\n",
    "authentic_cs_2.to_csv(\"authentic_cs_2.csv\", index=False)"
   ]
  },
  {
   "cell_type": "code",
   "execution_count": 16,
   "id": "8117139a-da12-499a-98c6-e6501117575c",
   "metadata": {},
   "outputs": [
    {
     "data": {
      "text/html": [
       "<div>\n",
       "<style scoped>\n",
       "    .dataframe tbody tr th:only-of-type {\n",
       "        vertical-align: middle;\n",
       "    }\n",
       "\n",
       "    .dataframe tbody tr th {\n",
       "        vertical-align: top;\n",
       "    }\n",
       "\n",
       "    .dataframe thead th {\n",
       "        text-align: right;\n",
       "    }\n",
       "</style>\n",
       "<table border=\"1\" class=\"dataframe\">\n",
       "  <thead>\n",
       "    <tr style=\"text-align: right;\">\n",
       "      <th></th>\n",
       "      <th>time_diff</th>\n",
       "    </tr>\n",
       "  </thead>\n",
       "  <tbody>\n",
       "    <tr>\n",
       "      <th>count</th>\n",
       "      <td>903.000000</td>\n",
       "    </tr>\n",
       "    <tr>\n",
       "      <th>mean</th>\n",
       "      <td>37.921406</td>\n",
       "    </tr>\n",
       "    <tr>\n",
       "      <th>std</th>\n",
       "      <td>27.328775</td>\n",
       "    </tr>\n",
       "    <tr>\n",
       "      <th>min</th>\n",
       "      <td>3.270000</td>\n",
       "    </tr>\n",
       "    <tr>\n",
       "      <th>25%</th>\n",
       "      <td>24.410000</td>\n",
       "    </tr>\n",
       "    <tr>\n",
       "      <th>50%</th>\n",
       "      <td>33.450000</td>\n",
       "    </tr>\n",
       "    <tr>\n",
       "      <th>75%</th>\n",
       "      <td>43.750000</td>\n",
       "    </tr>\n",
       "    <tr>\n",
       "      <th>max</th>\n",
       "      <td>405.330000</td>\n",
       "    </tr>\n",
       "  </tbody>\n",
       "</table>\n",
       "</div>"
      ],
      "text/plain": [
       "        time_diff\n",
       "count  903.000000\n",
       "mean    37.921406\n",
       "std     27.328775\n",
       "min      3.270000\n",
       "25%     24.410000\n",
       "50%     33.450000\n",
       "75%     43.750000\n",
       "max    405.330000"
      ]
     },
     "execution_count": 16,
     "metadata": {},
     "output_type": "execute_result"
    }
   ],
   "source": [
    "cation_resin_2.describe()"
   ]
  },
  {
   "cell_type": "code",
   "execution_count": 17,
   "id": "bdd21dd8-332d-498b-9222-599065b7f622",
   "metadata": {},
   "outputs": [],
   "source": [
    "authentic_cs_3 = cation_resin_3.loc[(cation_resin_3['time_diff'] < 50) & (cation_resin_3['time_diff'] > 6)]\n",
    "authentic_cs_3.to_csv(\"authentic_cs_3.csv\", index=False)"
   ]
  },
  {
   "cell_type": "code",
   "execution_count": 18,
   "id": "294ce7d6-cc38-4683-a9e8-4c51570625fe",
   "metadata": {},
   "outputs": [
    {
     "data": {
      "text/html": [
       "<div>\n",
       "<style scoped>\n",
       "    .dataframe tbody tr th:only-of-type {\n",
       "        vertical-align: middle;\n",
       "    }\n",
       "\n",
       "    .dataframe tbody tr th {\n",
       "        vertical-align: top;\n",
       "    }\n",
       "\n",
       "    .dataframe thead th {\n",
       "        text-align: right;\n",
       "    }\n",
       "</style>\n",
       "<table border=\"1\" class=\"dataframe\">\n",
       "  <thead>\n",
       "    <tr style=\"text-align: right;\">\n",
       "      <th></th>\n",
       "      <th>time_diff</th>\n",
       "    </tr>\n",
       "  </thead>\n",
       "  <tbody>\n",
       "    <tr>\n",
       "      <th>count</th>\n",
       "      <td>747.000000</td>\n",
       "    </tr>\n",
       "    <tr>\n",
       "      <th>mean</th>\n",
       "      <td>45.909625</td>\n",
       "    </tr>\n",
       "    <tr>\n",
       "      <th>std</th>\n",
       "      <td>31.333074</td>\n",
       "    </tr>\n",
       "    <tr>\n",
       "      <th>min</th>\n",
       "      <td>1.530000</td>\n",
       "    </tr>\n",
       "    <tr>\n",
       "      <th>25%</th>\n",
       "      <td>27.185000</td>\n",
       "    </tr>\n",
       "    <tr>\n",
       "      <th>50%</th>\n",
       "      <td>40.330000</td>\n",
       "    </tr>\n",
       "    <tr>\n",
       "      <th>75%</th>\n",
       "      <td>56.235000</td>\n",
       "    </tr>\n",
       "    <tr>\n",
       "      <th>max</th>\n",
       "      <td>493.920000</td>\n",
       "    </tr>\n",
       "  </tbody>\n",
       "</table>\n",
       "</div>"
      ],
      "text/plain": [
       "        time_diff\n",
       "count  747.000000\n",
       "mean    45.909625\n",
       "std     31.333074\n",
       "min      1.530000\n",
       "25%     27.185000\n",
       "50%     40.330000\n",
       "75%     56.235000\n",
       "max    493.920000"
      ]
     },
     "execution_count": 18,
     "metadata": {},
     "output_type": "execute_result"
    }
   ],
   "source": [
    "cation_resin_3.describe()"
   ]
  },
  {
   "cell_type": "markdown",
   "id": "324a620f-ccc6-4305-902d-b28ac99221cc",
   "metadata": {},
   "source": [
    "从更换树脂当天至未来的某一天，当原树脂洗床所多消耗酸的成本可以覆盖更换树脂的成本时，就值得更换树脂。"
   ]
  },
  {
   "cell_type": "markdown",
   "id": "658adb38-ed1d-4410-8799-1f7370e4cad8",
   "metadata": {
    "tags": []
   },
   "source": [
    "### 4.制水量整合"
   ]
  },
  {
   "cell_type": "code",
   "execution_count": 19,
   "id": "ebdc87a4-c62d-42d8-8070-c5b1116ceb76",
   "metadata": {
    "tags": []
   },
   "outputs": [
    {
     "data": {
      "application/vnd.jupyter.widget-view+json": {
       "model_id": "cc45cf7dc50e49c2a41c321c3d412645",
       "version_major": 2,
       "version_minor": 0
      },
      "text/plain": [
       "year:   0%|          | 0/4 [00:00<?, ?it/s]"
      ]
     },
     "metadata": {},
     "output_type": "display_data"
    },
    {
     "data": {
      "application/vnd.jupyter.widget-view+json": {
       "model_id": "1e34ed89985449f8bbde511073651053",
       "version_major": 2,
       "version_minor": 0
      },
      "text/plain": [
       "month:   0%|          | 0/12 [00:00<?, ?it/s]"
      ]
     },
     "metadata": {},
     "output_type": "display_data"
    },
    {
     "data": {
      "application/vnd.jupyter.widget-view+json": {
       "model_id": "7845daa94616441bb08c9c2345cb4a31",
       "version_major": 2,
       "version_minor": 0
      },
      "text/plain": [
       "month:   0%|          | 0/12 [00:00<?, ?it/s]"
      ]
     },
     "metadata": {},
     "output_type": "display_data"
    },
    {
     "data": {
      "application/vnd.jupyter.widget-view+json": {
       "model_id": "fcb1467e3c524103ba9028ff49999049",
       "version_major": 2,
       "version_minor": 0
      },
      "text/plain": [
       "month:   0%|          | 0/12 [00:00<?, ?it/s]"
      ]
     },
     "metadata": {},
     "output_type": "display_data"
    },
    {
     "data": {
      "application/vnd.jupyter.widget-view+json": {
       "model_id": "28b8b1514a1b40f7a9ef3dae09e43ef2",
       "version_major": 2,
       "version_minor": 0
      },
      "text/plain": [
       "month:   0%|          | 0/12 [00:00<?, ?it/s]"
      ]
     },
     "metadata": {},
     "output_type": "display_data"
    },
    {
     "name": "stdout",
     "output_type": "stream",
     "text": [
      "[Errno 2] No such file or directory: '干熄焦生产记录台账/2022/干熄焦生产记录台账（12月）.xlsx'\n"
     ]
    }
   ],
   "source": [
    "import pandas as pd\n",
    "import re\n",
    "import calendar\n",
    "import os\n",
    "from time import sleep\n",
    "from tqdm.auto import tqdm\n",
    "\n",
    "# 初始化文件\n",
    "if os.path.exists('WatarProductionRawInfo.csv'):\n",
    "    os.remove('WatarProductionRawInfo.csv')\n",
    "    \n",
    "# 数据列\n",
    "count_max_col = 8\n",
    "count_min_col = 2\n",
    "     \n",
    "# 数据行    \n",
    "valid_index1 = 3\n",
    "valid_index2 = 4\n",
    "\n",
    "years = [2019,2020,2021,2022]\n",
    "\n",
    "wp_df = pd.DataFrame({'date':[], 'capacity':[]})\n",
    "wp_df.to_csv(\"WatarProductionRawInfo.csv\",mode='a',index=False)\n",
    "\n",
    "\n",
    "# 遍历路径\n",
    "for year in tqdm(years,desc=\"year\"):\n",
    "\n",
    "\n",
    "    # 遍历文件\n",
    "    for month in tqdm(range(1,13,1),desc=\"month\"):\n",
    "        file_name = '干熄焦生产记录台账/{0}/干熄焦生产记录台账（{1}月）.xlsx'.format(year,month)\n",
    "\n",
    "        # 返回（当月总周数，当月总天数）\n",
    "        month_range = calendar.monthrange(int(year),int(month))\n",
    "        \n",
    "        # 遍历表单\n",
    "        for day in range(1,month_range[1]+1,1):  # 从第1天开始至当月最后一天\n",
    "            try:\n",
    "                wp_sheet_df = pd.read_excel(file_name, sheet_name = \"{}日\".format(day), header=None) # 读取当日表单\n",
    "            except FileNotFoundError as file_error:\n",
    "                print(file_error)\n",
    "                break\n",
    "                \n",
    "            # wp_sheet_df = pd.DataFrame(data=wp_sheet)    \n",
    "              \n",
    "            # 当日制水量\n",
    "            occupy = wp_sheet_df[count_max_col][valid_index1] - wp_sheet_df[count_min_col][valid_index1]\n",
    "            delivery = wp_sheet_df[count_max_col][valid_index2] - wp_sheet_df[count_min_col][valid_index2]\n",
    "            daily_capacity_sum = occupy + delivery\n",
    "            daily_capacity = {'capacity':[daily_capacity_sum]}\n",
    "            daily_capacity_df = pd.DataFrame(data=daily_capacity)\n",
    "            \n",
    "            # 当日日期\n",
    "            wp_date= {'date':[\"{0}-{1}-{2}\".format(year, month, day)]} # 再生日期信息\n",
    "            wp_date_df = pd.DataFrame(data=wp_date)\n",
    "            \n",
    "            # 追加入DataFrame\n",
    "            wp_daily = pd.DataFrame([[wp_date_df, daily_capacity_df]], columns=['date', 'capacity'])\n",
    "            \n",
    "            # 直接插入csv文件\n",
    "            wp_df = pd.concat([wp_date_df, daily_capacity_df], join=\"outer\",axis=1, ignore_index=True)\n",
    "            wp_df.to_csv(\"WatarProductionRawInfo.csv\",mode='a',header=False, index=False)\n",
    "            "
   ]
  },
  {
   "cell_type": "markdown",
   "id": "4243dd9d-cda2-4637-ba91-4ed6bfe48dc8",
   "metadata": {
    "tags": []
   },
   "source": [
    "### 2.制水量数据清洗"
   ]
  },
  {
   "cell_type": "code",
   "execution_count": 20,
   "id": "ab971b60-2bc5-465a-a3e9-9beb7f5d7e76",
   "metadata": {},
   "outputs": [],
   "source": [
    "wp_data = pd.read_csv(\"WatarProductionRawInfo.csv\")\n",
    "\n",
    "# 得分异常值\n",
    "wp_data_zscore = wp_data['capacity'].copy()\n",
    "z_score = (wp_data_zscore - wp_data_zscore.mean()) / wp_data_zscore.std()\n",
    "wp_data_zscore['expection'] = z_score.abs() > 2.2\n",
    "wp_data_zscore.to_csv(\"test.csv\", index=False)\n",
    "# wp_data_score == True"
   ]
  },
  {
   "cell_type": "code",
   "execution_count": 21,
   "id": "2fffe6c8-003d-4d50-9eda-e56f7afc1684",
   "metadata": {},
   "outputs": [
    {
     "data": {
      "text/html": [
       "<div>\n",
       "<style scoped>\n",
       "    .dataframe tbody tr th:only-of-type {\n",
       "        vertical-align: middle;\n",
       "    }\n",
       "\n",
       "    .dataframe tbody tr th {\n",
       "        vertical-align: top;\n",
       "    }\n",
       "\n",
       "    .dataframe thead th {\n",
       "        text-align: right;\n",
       "    }\n",
       "</style>\n",
       "<table border=\"1\" class=\"dataframe\">\n",
       "  <thead>\n",
       "    <tr style=\"text-align: right;\">\n",
       "      <th></th>\n",
       "      <th>date</th>\n",
       "      <th>capacity</th>\n",
       "    </tr>\n",
       "  </thead>\n",
       "  <tbody>\n",
       "    <tr>\n",
       "      <th>1401</th>\n",
       "      <td>2022-11-2</td>\n",
       "      <td>-80.0</td>\n",
       "    </tr>\n",
       "    <tr>\n",
       "      <th>946</th>\n",
       "      <td>2021-8-4</td>\n",
       "      <td>-7320.0</td>\n",
       "    </tr>\n",
       "    <tr>\n",
       "      <th>968</th>\n",
       "      <td>2021-8-26</td>\n",
       "      <td>-138450.0</td>\n",
       "    </tr>\n",
       "    <tr>\n",
       "      <th>833</th>\n",
       "      <td>2021-4-13</td>\n",
       "      <td>451013.0</td>\n",
       "    </tr>\n",
       "    <tr>\n",
       "      <th>777</th>\n",
       "      <td>2021-2-16</td>\n",
       "      <td>267140.0</td>\n",
       "    </tr>\n",
       "    <tr>\n",
       "      <th>1018</th>\n",
       "      <td>2021-10-15</td>\n",
       "      <td>-78280.0</td>\n",
       "    </tr>\n",
       "    <tr>\n",
       "      <th>755</th>\n",
       "      <td>2021-1-25</td>\n",
       "      <td>10436.0</td>\n",
       "    </tr>\n",
       "    <tr>\n",
       "      <th>748</th>\n",
       "      <td>2021-1-18</td>\n",
       "      <td>45972.0</td>\n",
       "    </tr>\n",
       "    <tr>\n",
       "      <th>630</th>\n",
       "      <td>2020-9-22</td>\n",
       "      <td>10215.0</td>\n",
       "    </tr>\n",
       "    <tr>\n",
       "      <th>583</th>\n",
       "      <td>2020-8-6</td>\n",
       "      <td>-9725.0</td>\n",
       "    </tr>\n",
       "    <tr>\n",
       "      <th>604</th>\n",
       "      <td>2020-8-27</td>\n",
       "      <td>-4500.0</td>\n",
       "    </tr>\n",
       "    <tr>\n",
       "      <th>597</th>\n",
       "      <td>2020-8-20</td>\n",
       "      <td>-22870.0</td>\n",
       "    </tr>\n",
       "    <tr>\n",
       "      <th>570</th>\n",
       "      <td>2020-7-24</td>\n",
       "      <td>13622.0</td>\n",
       "    </tr>\n",
       "    <tr>\n",
       "      <th>558</th>\n",
       "      <td>2020-7-12</td>\n",
       "      <td>20697.0</td>\n",
       "    </tr>\n",
       "    <tr>\n",
       "      <th>533</th>\n",
       "      <td>2020-6-17</td>\n",
       "      <td>-4020.0</td>\n",
       "    </tr>\n",
       "    <tr>\n",
       "      <th>502</th>\n",
       "      <td>2020-5-17</td>\n",
       "      <td>383360.0</td>\n",
       "    </tr>\n",
       "    <tr>\n",
       "      <th>486</th>\n",
       "      <td>2020-5-1</td>\n",
       "      <td>-116126.0</td>\n",
       "    </tr>\n",
       "    <tr>\n",
       "      <th>464</th>\n",
       "      <td>2020-4-9</td>\n",
       "      <td>-26131.0</td>\n",
       "    </tr>\n",
       "    <tr>\n",
       "      <th>473</th>\n",
       "      <td>2020-4-18</td>\n",
       "      <td>-2024.0</td>\n",
       "    </tr>\n",
       "    <tr>\n",
       "      <th>396</th>\n",
       "      <td>2020-2-1</td>\n",
       "      <td>-156138.0</td>\n",
       "    </tr>\n",
       "    <tr>\n",
       "      <th>672</th>\n",
       "      <td>2020-11-3</td>\n",
       "      <td>-5581.0</td>\n",
       "    </tr>\n",
       "    <tr>\n",
       "      <th>693</th>\n",
       "      <td>2020-11-24</td>\n",
       "      <td>-5080.0</td>\n",
       "    </tr>\n",
       "    <tr>\n",
       "      <th>395</th>\n",
       "      <td>2020-1-31</td>\n",
       "      <td>492129.0</td>\n",
       "    </tr>\n",
       "    <tr>\n",
       "      <th>249</th>\n",
       "      <td>2019-9-7</td>\n",
       "      <td>-20630.0</td>\n",
       "    </tr>\n",
       "    <tr>\n",
       "      <th>272</th>\n",
       "      <td>2019-9-30</td>\n",
       "      <td>29016.0</td>\n",
       "    </tr>\n",
       "    <tr>\n",
       "      <th>253</th>\n",
       "      <td>2019-9-11</td>\n",
       "      <td>-134535.0</td>\n",
       "    </tr>\n",
       "    <tr>\n",
       "      <th>242</th>\n",
       "      <td>2019-8-31</td>\n",
       "      <td>72450.0</td>\n",
       "    </tr>\n",
       "    <tr>\n",
       "      <th>232</th>\n",
       "      <td>2019-8-21</td>\n",
       "      <td>12008.0</td>\n",
       "    </tr>\n",
       "    <tr>\n",
       "      <th>231</th>\n",
       "      <td>2019-8-20</td>\n",
       "      <td>25074.0</td>\n",
       "    </tr>\n",
       "    <tr>\n",
       "      <th>229</th>\n",
       "      <td>2019-8-18</td>\n",
       "      <td>-63630.0</td>\n",
       "    </tr>\n",
       "    <tr>\n",
       "      <th>185</th>\n",
       "      <td>2019-7-5</td>\n",
       "      <td>-150.0</td>\n",
       "    </tr>\n",
       "    <tr>\n",
       "      <th>338</th>\n",
       "      <td>2019-12-5</td>\n",
       "      <td>-16373.0</td>\n",
       "    </tr>\n",
       "    <tr>\n",
       "      <th>364</th>\n",
       "      <td>2019-12-31</td>\n",
       "      <td>-580114.0</td>\n",
       "    </tr>\n",
       "    <tr>\n",
       "      <th>360</th>\n",
       "      <td>2019-12-27</td>\n",
       "      <td>-87670.0</td>\n",
       "    </tr>\n",
       "    <tr>\n",
       "      <th>344</th>\n",
       "      <td>2019-12-11</td>\n",
       "      <td>-5110.0</td>\n",
       "    </tr>\n",
       "    <tr>\n",
       "      <th>307</th>\n",
       "      <td>2019-11-4</td>\n",
       "      <td>22619.0</td>\n",
       "    </tr>\n",
       "    <tr>\n",
       "      <th>331</th>\n",
       "      <td>2019-11-28</td>\n",
       "      <td>104590.0</td>\n",
       "    </tr>\n",
       "  </tbody>\n",
       "</table>\n",
       "</div>"
      ],
      "text/plain": [
       "            date  capacity\n",
       "1401   2022-11-2     -80.0\n",
       "946     2021-8-4   -7320.0\n",
       "968    2021-8-26 -138450.0\n",
       "833    2021-4-13  451013.0\n",
       "777    2021-2-16  267140.0\n",
       "1018  2021-10-15  -78280.0\n",
       "755    2021-1-25   10436.0\n",
       "748    2021-1-18   45972.0\n",
       "630    2020-9-22   10215.0\n",
       "583     2020-8-6   -9725.0\n",
       "604    2020-8-27   -4500.0\n",
       "597    2020-8-20  -22870.0\n",
       "570    2020-7-24   13622.0\n",
       "558    2020-7-12   20697.0\n",
       "533    2020-6-17   -4020.0\n",
       "502    2020-5-17  383360.0\n",
       "486     2020-5-1 -116126.0\n",
       "464     2020-4-9  -26131.0\n",
       "473    2020-4-18   -2024.0\n",
       "396     2020-2-1 -156138.0\n",
       "672    2020-11-3   -5581.0\n",
       "693   2020-11-24   -5080.0\n",
       "395    2020-1-31  492129.0\n",
       "249     2019-9-7  -20630.0\n",
       "272    2019-9-30   29016.0\n",
       "253    2019-9-11 -134535.0\n",
       "242    2019-8-31   72450.0\n",
       "232    2019-8-21   12008.0\n",
       "231    2019-8-20   25074.0\n",
       "229    2019-8-18  -63630.0\n",
       "185     2019-7-5    -150.0\n",
       "338    2019-12-5  -16373.0\n",
       "364   2019-12-31 -580114.0\n",
       "360   2019-12-27  -87670.0\n",
       "344   2019-12-11   -5110.0\n",
       "307    2019-11-4   22619.0\n",
       "331   2019-11-28  104590.0"
      ]
     },
     "execution_count": 21,
     "metadata": {},
     "output_type": "execute_result"
    }
   ],
   "source": [
    "wp_expection_data = wp_data.loc[(wp_data['capacity'] > 10000) | (wp_data['capacity'] < 0)]\n",
    "wp_expection_data = wp_expection_data.copy()\n",
    "wp_expection_data.sort_values(\"date\", ascending=False, inplace=True)\n",
    "wp_expection_data"
   ]
  },
  {
   "cell_type": "code",
   "execution_count": null,
   "id": "7bc9b93b-a167-4668-8020-7b90abf5a233",
   "metadata": {},
   "outputs": [],
   "source": []
  }
 ],
 "metadata": {
  "kernelspec": {
   "display_name": "Python 3",
   "language": "python",
   "name": "python3"
  },
  "language_info": {
   "codemirror_mode": {
    "name": "ipython",
    "version": 3
   },
   "file_extension": ".py",
   "mimetype": "text/x-python",
   "name": "python",
   "nbconvert_exporter": "python",
   "pygments_lexer": "ipython3",
   "version": "3.8.10"
  },
  "toc-autonumbering": true
 },
 "nbformat": 4,
 "nbformat_minor": 5
}
